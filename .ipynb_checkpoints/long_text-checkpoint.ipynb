{
 "cells": [
  {
   "cell_type": "markdown",
   "id": "9d263e98-eec2-4a15-b929-b042dfab8639",
   "metadata": {},
   "source": [
    "# Sentimen Teks Panjang\n",
    "\n",
    "Sejauh ini, kami telah membatasi panjang teks yang dimasukkan ke dalam model kami. Bert khususnya dibatasi untuk mengkonsumsi 512 token per sampel. Untuk banyak kasus penggunaan, ini kemungkinan besar bukan masalah - tetapi dalam beberapa kasus bisa saja.\n",
    "\n",
    "Jika kita mengambil contoh postingan Reddit di subreddit /r/investing, banyak postingan yang lebih penting adalah DD (due-diligence), yang seringkali terdiri dari penyelaman mendalam tentang mengapa penulis menganggap saham adalah investasi yang bagus atau tidak. Pada potongan teks yang lebih panjang ini, sentimen sebenarnya dari penulis mungkin tidak jelas dari 512 token pertama. Kita perlu mempertimbangkan posting lengkap.\n",
    "\n",
    "Sebelum bekerja melalui logika yang memungkinkan kita untuk mempertimbangkan posting lengkap, mari impor dan tentukan semua yang kita butuhkan untuk membuat prediksi pada satu potongan teks (menggunakan sebagian besar dari apa yang kita bahas di bagian terakhir)."
   ]
  },
  {
   "cell_type": "code",
   "execution_count": 1,
   "id": "d27e2d75-1cbd-4a0f-8893-c9c8a8f9f66e",
   "metadata": {},
   "outputs": [],
   "source": [
    "from transformers import BertForSequenceClassification, BertTokenizer\n",
    "import torch"
   ]
  },
  {
   "cell_type": "markdown",
   "id": "1fbde091-7c23-43cc-a206-489d83cda0f2",
   "metadata": {},
   "source": [
    "Dengan menggunakan tanda \"**\" tokens di depan argumen, argumen yang diberikan dapat diinterpretasikan sebagai sebuah \"dictionary\" atau kumpulan pasangan key-value."
   ]
  },
  {
   "cell_type": "code",
   "execution_count": 12,
   "id": "b39dba09-4cca-45f3-9801-936aee09c19b",
   "metadata": {},
   "outputs": [],
   "source": [
    "# initialize our model and tokenizer\n",
    "\n",
    "tokenizer = BertTokenizer.from_pretrained(\"ProsusAI/finbert\")\n",
    "model = BertForSequenceClassification.from_pretrained(\"ProsusAI/finbert\")\n",
    "\n",
    "# and we will place the processing of our input text into a function for easier prediction later\n",
    "\n",
    "def sentiment(tokens):\n",
    "    # get output logits from the model\n",
    "    output = model(**tokens)\n",
    "    \n",
    "    # output = [ 0.5, -1.2, 2.1 ] => example\n",
    "        \n",
    "    # convert to probabilities\n",
    "    probs = torch.nn.functional.softmax(output[0], dim=-1)\n",
    "    \n",
    "    # we will return the probability tensor (we will not need argmax until later)\n",
    "    return probs"
   ]
  },
  {
   "cell_type": "code",
   "execution_count": 13,
   "id": "aa2fe7fe-e813-4469-ab54-a436ea4ac86d",
   "metadata": {},
   "outputs": [
    {
     "name": "stderr",
     "output_type": "stream",
     "text": [
      "Token indices sequence length is longer than the specified maximum sequence length for this model (1345 > 512). Running this sequence through the model will result in indexing errors\n"
     ]
    },
    {
     "data": {
      "text/plain": [
       "1345"
      ]
     },
     "execution_count": 13,
     "metadata": {},
     "output_type": "execute_result"
    }
   ],
   "source": [
    "txt = \"\"\"\n",
    "I would like to get your all  thoughts on the bond yield increase this week.  I am not worried about the market downturn but the sudden increase in yields. On 2/16 the 10 year bonds yields increased by almost  9 percent and on 2/19 the yield increased by almost 5 percent.\n",
    "\n",
    "Key Points from the CNBC Article:\n",
    "\n",
    "* **The “taper tantrum” in 2013 was a sudden spike in Treasury yields due to market panic after the Federal Reserve announced that it would begin tapering its quantitative easing program.**\n",
    "* **Major central banks around the world have cut interest rates to historic lows and launched unprecedented quantities of asset purchases in a bid to shore up the economy throughout the pandemic.**\n",
    "* **However, the recent rise in yields suggests that some investors are starting to anticipate a tightening of policy sooner than anticipated to accommodate a potential rise in inflation.**\n",
    "\n",
    "The recent rise in bond yields and U.S. inflation expectations has some investors wary that a repeat of the 2013 “taper tantrum” could be on the horizon.\n",
    "\n",
    "The benchmark U.S. 10-year Treasury note climbed above 1.3% for the first time since February 2020 earlier this week, while the 30-year bond also hit its highest level for a year. Yields move inversely to bond prices.\n",
    "\n",
    "Yields tend to rise in lockstep with inflation expectations, which have reached their highest levels in a decade in the U.S., powered by increased prospects of a large fiscal stimulus package, progress on vaccine rollouts and pent-up consumer demand.\n",
    "\n",
    "The “taper tantrum” in 2013 was a sudden spike in Treasury yields due to market panic after the Federal Reserve announced that it would begin tapering its quantitative easing program.\n",
    "\n",
    "Major central banks around the world have cut interest rates to historic lows and launched unprecedented quantities of asset purchases in a bid to shore up the economy throughout the pandemic. The Fed and others have maintained supportive tones in recent policy meetings, vowing to keep financial conditions loose as the global economy looks to emerge from the Covid-19 pandemic.\n",
    "\n",
    "However, the recent rise in yields suggests that some investors are starting to anticipate a tightening of policy sooner than anticipated to accommodate a potential rise in inflation.\n",
    "\n",
    "With central bank support removed, bonds usually fall in price which sends yields higher. This can also spill over into stock markets as higher interest rates means more debt servicing for firms, causing traders to reassess the investing environment.\n",
    "\n",
    "“The supportive stance from policymakers will likely remain in place until the vaccines have paved a way to some return to normality,” said Shane Balkham, chief investment officer at Beaufort Investment, in a research note this week.\n",
    "\n",
    "“However, there will be a risk of another ‘taper tantrum’ similar to the one we witnessed in 2013, and this is our main focus for 2021,” Balkham projected, should policymakers begin to unwind this stimulus.\n",
    "\n",
    "Long-term bond yields in Japan and Europe followed U.S. Treasurys higher toward the end of the week as bondholders shifted their portfolios.\n",
    "\n",
    "“The fear is that these assets are priced to perfection when the ECB and Fed might eventually taper,” said Sebastien Galy, senior macro strategist at Nordea Asset Management, in a research note entitled “Little taper tantrum.”\n",
    "\n",
    "“The odds of tapering are helped in the United States by better retail sales after four months of disappointment and the expectation of large issuance from the $1.9 trillion fiscal package.”\n",
    "\n",
    "Galy suggested the Fed would likely extend the duration on its asset purchases, moderating the upward momentum in inflation.\n",
    "\n",
    "“Equity markets have reacted negatively to higher yield as it offers an alternative to the dividend yield and a higher discount to long-term cash flows, making them focus more on medium-term growth such as cyclicals” he said. Cyclicals are stocks whose performance tends to align with economic cycles.\n",
    "\n",
    "Galy expects this process to be more marked in the second half of the year when economic growth picks up, increasing the potential for tapering.\n",
    "\n",
    "## Tapering in the U.S., but not Europe\n",
    "\n",
    "Allianz CEO Oliver Bäte told CNBC on Friday that there was a geographical divergence in how the German insurer is thinking about the prospect of interest rate hikes.\n",
    "\n",
    "“One is Europe, where we continue to have financial repression, where the ECB continues to buy up to the max in order to minimize spreads between the north and the south — the strong balance sheets and the weak ones — and at some point somebody will have to pay the price for that, but in the short term I don’t see any spike in interest rates,” Bäte said, adding that the situation is different stateside.\n",
    "\n",
    "“Because of the massive programs that have happened, the stimulus that is happening, the dollar being the world’s reserve currency, there is clearly a trend to stoke inflation and it is going to come. Again, I don’t know when and how, but the interest rates have been steepening and they should be steepening further.”\n",
    "\n",
    "## Rising yields a ‘normal feature’\n",
    "\n",
    "However, not all analysts are convinced that the rise in bond yields is material for markets. In a note Friday, Barclays Head of European Equity Strategy Emmanuel Cau suggested that rising bond yields were overdue, as they had been lagging the improving macroeconomic outlook for the second half of 2021, and said they were a “normal feature” of economic recovery.\n",
    "\n",
    "“With the key drivers of inflation pointing up, the prospect of even more fiscal stimulus in the U.S. and pent up demand propelled by high excess savings, it seems right for bond yields to catch-up with other more advanced reflation trades,” Cau said, adding that central banks remain “firmly on hold” given the balance of risks.\n",
    "\n",
    "He argued that the steepening yield curve is “typical at the early stages of the cycle,” and that so long as vaccine rollouts are successful, growth continues to tick upward and central banks remain cautious, reflationary moves across asset classes look “justified” and equities should be able to withstand higher rates.\n",
    "\n",
    "“Of course, after the strong move of the last few weeks, equities could mark a pause as many sectors that have rallied with yields look overbought, like commodities and banks,” Cau said.\n",
    "\n",
    "“But at this stage, we think rising yields are more a confirmation of the equity bull market than a threat, so dips should continue to be bought.”\n",
    "\"\"\"\n",
    "\n",
    "tokens = tokenizer.encode_plus(txt, add_special_tokens=False)\n",
    "len(tokens['input_ids'])"
   ]
  },
  {
   "cell_type": "code",
   "execution_count": 17,
   "id": "fdb6e8e8-fd12-4205-a876-0fe39e5cce76",
   "metadata": {},
   "outputs": [],
   "source": [
    "inputs_ids = tokens['input_ids']\n",
    "attention_mask = tokens['attention_mask']"
   ]
  },
  {
   "cell_type": "code",
   "execution_count": 18,
   "id": "a98defed-9d02-4a2b-9f6e-99863e9db7ec",
   "metadata": {},
   "outputs": [
    {
     "name": "stdout",
     "output_type": "stream",
     "text": [
      "start=0\n",
      "end=512\n",
      "start=512\n",
      "end=1024\n",
      "start=1024\n",
      "end=1345\n"
     ]
    }
   ],
   "source": [
    "# define our starting position (0) and window size (number of tokens in each chunk)\n",
    "start = 0\n",
    "window_size = 512\n",
    "\n",
    "# get the total length of our tokens\n",
    "total_len = len(inputs_ids)\n",
    "\n",
    "# initialize condition for our while loop to run\n",
    "loop = True\n",
    "\n",
    "# loop through and print out start/end positions\n",
    "while loop:\n",
    "    # the end position is simply the start + window_size\n",
    "    end = start + window_size\n",
    "    # if the end position is greater than the total length, make this our final iteration\n",
    "    if end >= total_len:\n",
    "        loop = False\n",
    "        # and change our endpoint to the final token position\n",
    "        end = total_len\n",
    "        \n",
    "    print(f\"{start=}\\n{end=}\")\n",
    "    # we need to move the window to the next 512 tokens\n",
    "    start = end"
   ]
  },
  {
   "cell_type": "code",
   "execution_count": 30,
   "id": "431c2741-4fd5-4a92-880a-6997c8cceacb",
   "metadata": {},
   "outputs": [
    {
     "data": {
      "text/plain": [
       "[tensor([[0.1384, 0.8145, 0.0471]], grad_fn=<SoftmaxBackward0>),\n",
       " tensor([[0.3757, 0.4670, 0.1574]], grad_fn=<SoftmaxBackward0>),\n",
       " tensor([[0.7290, 0.2006, 0.0704]], grad_fn=<SoftmaxBackward0>)]"
      ]
     },
     "execution_count": 30,
     "metadata": {},
     "output_type": "execute_result"
    }
   ],
   "source": [
    "# define our starting position (0) and window size (number of tokens in each chunk)\n",
    "start = 0\n",
    "window_size = 510 # we take 2 off here so that we can fit in our [CLS] and [SEP] tokens\n",
    "\n",
    "probs_list = []\n",
    "\n",
    "# get the total length of our tokens\n",
    "total_len = len(inputs_ids)\n",
    "\n",
    "# initialize condition for our while loop to run\n",
    "loop = True\n",
    "\n",
    "# loop through and print out start/end positions\n",
    "while loop:\n",
    "    # the end position is simply the start + window_size\n",
    "    end = start + window_size\n",
    "    # if the end position is greater than the total length, make this our final iteration\n",
    "    if end >= total_len:\n",
    "        loop = False\n",
    "        # and change our endpoint to the final token position\n",
    "        end = total_len\n",
    "        \n",
    "    # (1) extract window from input_ids and attention_mask & add [CLS] and [SEP]\n",
    "\n",
    "    inputs_ids_chunk = [101] + inputs_ids[start:end] + [102] # 512 len\n",
    "    attention_mask_chunk = [1] + attention_mask[start:end] + [1]\n",
    "                \n",
    "    # (2) add padding upto window_size + 2 (512) tokens\n",
    "    \n",
    "    # Output dari baris ini adalah list \"inputs_ids_chunk\" yang telah diperbarui dan diisi dengan token 0 sebanyak (window_size - len(inputs_ids_chunk)) buah. \n",
    "    \n",
    "    inputs_ids_chunk += [0] * ( window_size - len(inputs_ids_chunk) + 2 )\n",
    "    attention_mask_chunk += [0] * ( window_size - len(attention_mask_chunk) + 2 )\n",
    "    \n",
    "    # (3) format into PyTorch tensors dictionary\n",
    "    \n",
    "    # convert [input_ids_chunk] list to tensor\n",
    "    \n",
    "    input_dict = {\n",
    "        'input_ids': torch.Tensor([inputs_ids_chunk]).long(),\n",
    "        'attention_mask': torch.Tensor([attention_mask_chunk]).int()\n",
    "    }\n",
    "    \n",
    "    # (4) make logits prediction\n",
    "    \n",
    "    # SequenceClassifierOutput(loss=None, logits=tensor([[-0.2807,  1.4917, -1.3592]], grad_fn=<AddmmBackward0>), hidden_states=None, attentions=None)\n",
    "    # akan berisi 3 logits untuk di hitung sebagai probabilitas\n",
    "    \n",
    "    output = model(**input_dict)\n",
    "        \n",
    "    # (5) calculate softmax and append to list, will be out probabilities\n",
    "    \n",
    "    probs = torch.nn.functional.softmax(output[0], dim=-1)\n",
    "    probs_list.append(probs)\n",
    "        \n",
    "    # we need to move the window to the next 512 tokens\n",
    "    start = end\n",
    "    \n",
    "probs_list"
   ]
  },
  {
   "cell_type": "markdown",
   "id": "c23cf4de-274a-4902-8e76-25e6aef21800",
   "metadata": {},
   "source": [
    "Logits adalah nilai numerik yang dihasilkan oleh output layer dari sebuah model machine learning sebelum dilakukan transformasi ke probabilitas. Logits dapat dianggap sebagai representasi dari kepercayaan model terhadap suatu kelas atau kategori.\n",
    "\n",
    "Dalam konteks klasifikasi, misalnya, setiap kelas yang mungkin memiliki sebuah skor logits yang dihitung oleh model. Skor ini kemudian digunakan untuk menentukan probabilitas masing-masing kelas menggunakan fungsi softmax. Semakin tinggi skor logits untuk sebuah kelas, semakin besar pula probabilitas bahwa input tersebut masuk ke kelas tersebut.\n",
    "\n",
    "Logits dapat digunakan sebagai output dari model ketika kita hanya perlu membandingkan skor relatif antara kelas-kelas yang mungkin, atau ketika kita ingin mengambil keputusan berdasarkan skor tertinggi tanpa memperhatikan seberapa besar selisih antara skor yang terbesar dan skor kedua terbesar. Namun, untuk keperluan interpretasi dan visualisasi, biasanya lebih mudah untuk menggunakan probabilitas."
   ]
  },
  {
   "cell_type": "markdown",
   "id": "b512a951-9b7e-4798-ba09-de9ea0db00bc",
   "metadata": {},
   "source": [
    "Each section has been assign varying levels of sentiment. The first and section sections both score negatively (index 1) and the final sections scores positively (index 0). To calculate the average sentiment across the full text, we will merge these tensors using the stack method:"
   ]
  },
  {
   "cell_type": "code",
   "execution_count": 31,
   "id": "92317a84-8358-4bde-92fc-e54559f44195",
   "metadata": {},
   "outputs": [
    {
     "data": {
      "text/plain": [
       "tensor([[[0.1384, 0.8145, 0.0471]],\n",
       "\n",
       "        [[0.3757, 0.4670, 0.1574]],\n",
       "\n",
       "        [[0.7290, 0.2006, 0.0704]]], grad_fn=<StackBackward0>)"
      ]
     },
     "execution_count": 31,
     "metadata": {},
     "output_type": "execute_result"
    }
   ],
   "source": [
    "stacks = torch.stack(probs_list)\n",
    "stacks"
   ]
  },
  {
   "cell_type": "code",
   "execution_count": 32,
   "id": "27e65ce0-2790-4670-abbb-ae77a01cc417",
   "metadata": {},
   "outputs": [
    {
     "data": {
      "text/plain": [
       "torch.Size([3, 1, 3])"
      ]
     },
     "execution_count": 32,
     "metadata": {},
     "output_type": "execute_result"
    }
   ],
   "source": [
    "stacks.shape"
   ]
  },
  {
   "cell_type": "code",
   "execution_count": 35,
   "id": "d55d4143-61ca-4d4e-aa50-171d6083a367",
   "metadata": {},
   "outputs": [
    {
     "data": {
      "text/plain": [
       "(3, 3)"
      ]
     },
     "execution_count": 35,
     "metadata": {},
     "output_type": "execute_result"
    }
   ],
   "source": [
    "stacks.shape[0], stacks.shape[2]"
   ]
  },
  {
   "cell_type": "code",
   "execution_count": 36,
   "id": "1eb2d599-94cd-4135-ae5f-8a55c910b4b9",
   "metadata": {},
   "outputs": [
    {
     "ename": "RuntimeError",
     "evalue": "cannot resize variables that require grad",
     "output_type": "error",
     "traceback": [
      "\u001b[1;31m---------------------------------------------------------------------------\u001b[0m",
      "\u001b[1;31mRuntimeError\u001b[0m                              Traceback (most recent call last)",
      "\u001b[1;32m~\\AppData\\Local\\Temp\\ipykernel_28728\\679833199.py\u001b[0m in \u001b[0;36m<module>\u001b[1;34m\u001b[0m\n\u001b[1;32m----> 1\u001b[1;33m \u001b[0mstacks\u001b[0m\u001b[1;33m.\u001b[0m\u001b[0mresize_\u001b[0m\u001b[1;33m(\u001b[0m\u001b[0mstacks\u001b[0m\u001b[1;33m.\u001b[0m\u001b[0mshape\u001b[0m\u001b[1;33m[\u001b[0m\u001b[1;36m0\u001b[0m\u001b[1;33m]\u001b[0m\u001b[1;33m,\u001b[0m \u001b[0mstacks\u001b[0m\u001b[1;33m.\u001b[0m\u001b[0mshape\u001b[0m\u001b[1;33m[\u001b[0m\u001b[1;36m2\u001b[0m\u001b[1;33m]\u001b[0m\u001b[1;33m)\u001b[0m\u001b[1;33m\u001b[0m\u001b[1;33m\u001b[0m\u001b[0m\n\u001b[0m",
      "\u001b[1;31mRuntimeError\u001b[0m: cannot resize variables that require grad"
     ]
    }
   ],
   "source": [
    "stacks.resize_(stacks.shape[0], stacks.shape[2])"
   ]
  },
  {
   "cell_type": "markdown",
   "id": "e1127529-85b8-4b75-b337-5b69fdb94dc9",
   "metadata": {},
   "source": [
    "When we try to resize our tensor, we will receive this RuntimeError telling us that we cannot resize variables that require grad. What this is referring to is the gradient updates of our model tensors during training. PyTorch cannot calculate gradients for tensors that have been reshaped. Fortunately, we don't actually want to use this tensor during any training, so we can use the torch.no_grad() namespace to tell PyTorch that we do not want to calculate any gradients."
   ]
  },
  {
   "cell_type": "code",
   "execution_count": 37,
   "id": "a7438932-d5b1-4a34-a2d6-9e435eb9ba96",
   "metadata": {},
   "outputs": [
    {
     "data": {
      "text/plain": [
       "tensor([0.4144, 0.4940, 0.0916])"
      ]
     },
     "execution_count": 37,
     "metadata": {},
     "output_type": "execute_result"
    }
   ],
   "source": [
    "with torch.no_grad():\n",
    "    # we must include our stacks operation in here too\n",
    "    stacks = torch.stack(probs_list)\n",
    "    # now resize\n",
    "    stacks = stacks.resize_(stacks.shape[0], stacks.shape[2])\n",
    "    # finally, we can calculate the mean value for each sentiment class\n",
    "    mean = stacks.mean(dim=0)\n",
    "    \n",
    "mean"
   ]
  },
  {
   "cell_type": "code",
   "execution_count": 38,
   "id": "02d43bc2-f3cc-47f2-8b3b-03e9deeee566",
   "metadata": {},
   "outputs": [
    {
     "data": {
      "text/plain": [
       "1"
      ]
     },
     "execution_count": 38,
     "metadata": {},
     "output_type": "execute_result"
    }
   ],
   "source": [
    "torch.argmax(mean).item()"
   ]
  },
  {
   "cell_type": "code",
   "execution_count": null,
   "id": "640c5a9b-91fb-4e7d-88ad-a3dcde8d4a5a",
   "metadata": {},
   "outputs": [],
   "source": []
  }
 ],
 "metadata": {
  "kernelspec": {
   "display_name": "Python 3 (ipykernel)",
   "language": "python",
   "name": "python3"
  },
  "language_info": {
   "codemirror_mode": {
    "name": "ipython",
    "version": 3
   },
   "file_extension": ".py",
   "mimetype": "text/x-python",
   "name": "python",
   "nbconvert_exporter": "python",
   "pygments_lexer": "ipython3",
   "version": "3.9.13"
  }
 },
 "nbformat": 4,
 "nbformat_minor": 5
}
